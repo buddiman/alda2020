{
 "cells": [
  {
   "cell_type": "markdown",
   "metadata": {},
   "source": [
    "# Aufgabe 4.1: Asymptotische Komplexität"
   ]
  },
  {
   "cell_type": "markdown",
   "metadata": {},
   "source": [
    "## (a)\n",
    "\n",
    "**zu zeigen**: $(x+20)\\log_{10}(x+20)\\in\\mathcal{O}(x\\log_2x)$\n",
    "\n",
    "$\n",
    "(x+20)\\log_{10}(x)\\\\\n",
    "= (x+20)\\frac{\\log_2(x+20)}{\\log_2 10} \\\\\n",
    "= x\\frac{\\log_2(x+20)}{\\log_2 10} + 20\\frac{\\log_2(x+20)}{\\log_2 10} \\\\\n",
    "=\\underbrace{\n",
    "\\underbrace{\n",
    "\\frac{1}{\\log_2 10}x\\log_2(x+20)}_{\\in\\mathcal{O}(x\\log_2x), c = \\frac{1}{\\log_2 10}} +\n",
    "\\underbrace{\\frac{20}{\\log_2 10}\\log_2(x+20)}_{\\in\\mathcal{O}(\\log_2x), c = \\frac{20}{\\log_2 10}}\n",
    "}_{\\mathrm{Sequenzregel} \\rightarrow \\in\\mathcal{O}(x\\log_2x)}\n",
    "$\n",
    "\n",
    "\n"
   ]
  },
  {
   "cell_type": "code",
   "execution_count": null,
   "metadata": {},
   "outputs": [],
   "source": []
  }
 ],
 "metadata": {
  "kernelspec": {
   "display_name": "Python 3",
   "language": "python",
   "name": "python3"
  },
  "language_info": {
   "codemirror_mode": {
    "name": "ipython",
    "version": 3
   },
   "file_extension": ".py",
   "mimetype": "text/x-python",
   "name": "python",
   "nbconvert_exporter": "python",
   "pygments_lexer": "ipython3",
   "version": "3.7.6"
  }
 },
 "nbformat": 4,
 "nbformat_minor": 4
}
