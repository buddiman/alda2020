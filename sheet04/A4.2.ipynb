{
 "cells": [
  {
   "cell_type": "markdown",
   "metadata": {},
   "source": [
    "# Aufgabe 4.2: Komplexität des Sieb des Eratosthenes"
   ]
  },
  {
   "cell_type": "markdown",
   "metadata": {},
   "source": [
    "### Code"
   ]
  },
  {
   "cell_type": "code",
   "execution_count": 1,
   "metadata": {},
   "outputs": [],
   "source": [
    "from math import sqrt"
   ]
  },
  {
   "cell_type": "code",
   "execution_count": 2,
   "metadata": {},
   "outputs": [],
   "source": [
    "def sieve1(N):\n",
    "    primes = list(range(N+1))\n",
    "    primes[1] = 0\n",
    "    stop = N\n",
    "    k = 2\n",
    "    while k <= stop:\n",
    "        j = 2*k\n",
    "        while j <= N:\n",
    "            primes[j] = 0\n",
    "            j += k\n",
    "        k += 1\n",
    "    return [k for k in primes if k != 0]"
   ]
  },
  {
   "cell_type": "code",
   "execution_count": 3,
   "metadata": {},
   "outputs": [],
   "source": [
    "def sieve2(N):\n",
    "    primes = list(range(N+1))\n",
    "    primes[1] = 0\n",
    "    stop = N\n",
    "    k = 2\n",
    "    while k <= stop:\n",
    "        if primes[k] != 0:\n",
    "            j = 2*k\n",
    "            while j <= N:\n",
    "                primes[j] = 0\n",
    "                j += k\n",
    "        k += 1\n",
    "    return [k for k in primes if k != 0]"
   ]
  },
  {
   "cell_type": "code",
   "execution_count": 6,
   "metadata": {},
   "outputs": [],
   "source": [
    "# kurzer Test, ob ich den Code richtig abgeschrieben habe...\n",
    "assert(sieve1(1000) == sieve2(1000))"
   ]
  },
  {
   "cell_type": "markdown",
   "metadata": {},
   "source": [
    "## (a)\n",
    "\n",
    "`sieve1` siebt die Vielfachen aller Zahlen, aber das ist gar nicht nötig. Zum Beispiel müssen die Vielfachen der Zahl `k=4` nicht gesiebt werden, weil sie alle schon bei `k = 2` gesiebt worden sind. Dennoch liefert es dieselben Ergebnisse wie `sieve2` wo lediglich die Primzahlen als Basis für das Sieben herangezogen werden. Die Gleichheit der Ergebnisse liegt daran, dass jede Zahl $k>1$ in ihre Primfaktoren $p_1, \\ldots p_n$ zerlegt werden kann, sodass $k = \\prod p_i$. Siebt man wie bei `sieve1` mit allen Zahlen, kommt daher dasselbe heraus wie wenn man lediglich mit allen Prinzahlen siebt."
   ]
  },
  {
   "cell_type": "markdown",
   "metadata": {},
   "source": [
    "## (b)\n",
    "\n",
    "**Behauptung:** $f_1(N)\\in\\mathcal{O}(N\\ln N)$\n",
    "\n",
    "_TODO_"
   ]
  },
  {
   "cell_type": "markdown",
   "metadata": {},
   "source": [
    "## (c)\n",
    "\n",
    "**Behauptung:** $f_2(N)\\in\\mathcal{O}(N\\ln (\\ln N))$\n",
    "\n",
    "_TODO_"
   ]
  },
  {
   "cell_type": "markdown",
   "metadata": {},
   "source": [
    "## (d)\n",
    "\n",
    "Weil ab $k=\\sqrt{N}$ alle potenziellen Nicht-Primzahlen bereits ausgesiebt wurden. Beweis:\n",
    "\n",
    "Sei $z = \\prod p_i > \\sqrt{N}$ nicht prim, das heißt hat mindestens zwei Primteiler: $z = p_1 * p_2 * \\ldots$\n",
    "\n",
    "Im Extremfall ist $z=N$ und $p_1 = p_2 = \\sqrt{N}$. In allen anderen Fällen ist entweder $p_1<\\sqrt{N}$ oder $p_2<\\sqrt{N}$, womit $z$ bereits ausgesiebt wurde, als der entsprechende Primfaktor die Basis des Siebs war. Nach dem Durchlauf mit $k=\\sqrt{N}$ sind also alle Nicht-Primzahlen ausgesiebt und es verbleiben nur noch Primzahlen.\n",
    "\n",
    "Auf die Komplexität hat das ...\n",
    "\n",
    "_TODO_"
   ]
  },
  {
   "cell_type": "code",
   "execution_count": null,
   "metadata": {},
   "outputs": [],
   "source": []
  }
 ],
 "metadata": {
  "kernelspec": {
   "display_name": "Python 3",
   "language": "python",
   "name": "python3"
  },
  "language_info": {
   "codemirror_mode": {
    "name": "ipython",
    "version": 3
   },
   "file_extension": ".py",
   "mimetype": "text/x-python",
   "name": "python",
   "nbconvert_exporter": "python",
   "pygments_lexer": "ipython3",
   "version": "3.7.6"
  }
 },
 "nbformat": 4,
 "nbformat_minor": 4
}
