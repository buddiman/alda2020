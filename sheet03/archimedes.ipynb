{
 "cells": [
  {
   "cell_type": "markdown",
   "metadata": {},
   "source": [
    "# Blatt 03\n",
    "## Aufgabe 3\n",
    "Christopher Hoellriegl, Marvin Schmitt\n",
    "\n"
   ]
  },
  {
   "cell_type": "code",
   "execution_count": 1,
   "metadata": {},
   "outputs": [],
   "source": [
    "from math import *"
   ]
  },
  {
   "cell_type": "markdown",
   "metadata": {},
   "source": [
    "## 3.3 a)"
   ]
  },
  {
   "cell_type": "code",
   "execution_count": 55,
   "metadata": {},
   "outputs": [
    {
     "name": "stdout",
     "output_type": "stream",
     "text": [
      "k:  0, n=           4, 2.8284271247461903 < pi < 4.0000000000000000, delta=1.1715728752538097\n",
      "k:  1, n=           8, 3.0614674589207187 < pi < 3.3137084989847612, delta=0.2522410400640425\n",
      "k:  2, n=          16, 3.1214451522580529 < pi < 3.1825978780745294, delta=0.0611527258164766\n",
      "k:  3, n=          32, 3.1365484905459406 < pi < 3.1517249074292586, delta=0.0151764168833179\n",
      "k:  4, n=          64, 3.1403311569547392 < pi < 3.1441183852458665, delta=0.0037872282911273\n",
      "k:  5, n=         128, 3.1412772509327569 < pi < 3.1422236299423449, delta=0.0009463790095880\n",
      "k:  6, n=         256, 3.1415138011441455 < pi < 3.1417503691697037, delta=0.0002365680255583\n",
      "k:  7, n=         512, 3.1415729403678827 < pi < 3.1416320807022489, delta=0.0000591403343662\n",
      "k:  8, n=        1024, 3.1415877252799609 < pi < 3.1416025102419720, delta=0.0000147849620111\n",
      "k:  9, n=        2048, 3.1415914215046352 < pi < 3.1415951177183654, delta=0.0000036962137302\n",
      "k: 10, n=        4096, 3.1415923456110768 < pi < 3.1415932696317452, delta=0.0000009240206684\n",
      "k: 11, n=        8192, 3.1415925765450043 < pi < 3.1415928083796847, delta=0.0000002318346803\n",
      "k: 12, n=       16384, 3.1415926334632482 < pi < 3.1415926909629688, delta=0.0000000574997205\n",
      "k: 13, n=       32768, 3.1415926548075892 < pi < 3.1415926755704531, delta=0.0000000207628639\n",
      "k: 14, n=       65536, 3.1415926453212153 < pi < 3.1415926909629683, delta=0.0000000456417530\n",
      "k: 15, n=      131072, 3.1415926073757197 < pi < 3.1415925237884736, delta=-0.0000000835872460\n",
      "k: 16, n=      262144, 3.1415929109396727 < pi < 3.1415908695791139, delta=-0.0000020413605588\n",
      "k: 17, n=      524288, 3.1415941251951911 < pi < 3.1415925237884736, delta=-0.0000016014067175\n",
      "k: 18, n=     1048576, 3.1415965537048196 < pi < 3.1416005836263348, delta=0.0000040299215152\n",
      "k: 19, n=     2097152, 3.1415965537048196 < pi < 3.1415925237884736, delta=-0.0000040299163460\n",
      "k: 20, n=     4194304, 3.1416742650217575 < pi < 3.1414451588708001, delta=-0.0002291061509574\n",
      "k: 21, n=     8388608, 3.1418296818892015 < pi < 3.1409707956024877, delta=-0.0008588862867138\n",
      "k: 22, n=    16777216, 3.1424512724941338 < pi < 3.1339832938853585, delta=-0.0084679786087754\n",
      "k: 23, n=    33554432, 3.1424512724941338 < pi < 3.1110567880253215, delta=-0.0313944844688123\n",
      "k: 24, n=    67108864, 3.1622776601683795 < pi < 3.0536247478882976, delta=-0.1086529122800819\n",
      "k: 25, n=   134217728, 3.1622776601683795 < pi < 2.6198372951792184, delta=-0.5424403649891612\n",
      "k: 26, n=   268435456, 3.4641016151377544 < pi < 3.0536247478882976, delta=-0.4104768672494568\n",
      "k: 27, n=   536870912, 4.0000000000000000 < pi < 0.0000000000000000, delta=-4.0000000000000000\n"
     ]
    },
    {
     "ename": "ZeroDivisionError",
     "evalue": "float division by zero",
     "output_type": "error",
     "traceback": [
      "\u001b[1;31m---------------------------------------------------------------------------\u001b[0m",
      "\u001b[1;31mZeroDivisionError\u001b[0m                         Traceback (most recent call last)",
      "\u001b[1;32m<ipython-input-55-959dee365b3a>\u001b[0m in \u001b[0;36m<module>\u001b[1;34m\u001b[0m\n\u001b[0;32m     29\u001b[0m \u001b[1;33m\u001b[0m\u001b[0m\n\u001b[0;32m     30\u001b[0m     \u001b[1;32mreturn\u001b[0m \u001b[0mhistory\u001b[0m\u001b[1;33m\u001b[0m\u001b[1;33m\u001b[0m\u001b[0m\n\u001b[1;32m---> 31\u001b[1;33m \u001b[0m_\u001b[0m \u001b[1;33m=\u001b[0m \u001b[0marchimedes1\u001b[0m\u001b[1;33m(\u001b[0m\u001b[1;36m30\u001b[0m\u001b[1;33m)\u001b[0m\u001b[1;33m\u001b[0m\u001b[1;33m\u001b[0m\u001b[0m\n\u001b[0m",
      "\u001b[1;32m<ipython-input-55-959dee365b3a>\u001b[0m in \u001b[0;36marchimedes1\u001b[1;34m(K, print_results)\u001b[0m\n\u001b[0;32m     25\u001b[0m \u001b[1;33m\u001b[0m\u001b[0m\n\u001b[0;32m     26\u001b[0m         \u001b[0ms\u001b[0m \u001b[1;33m=\u001b[0m \u001b[0mget_s_2n\u001b[0m\u001b[1;33m(\u001b[0m\u001b[0ms\u001b[0m\u001b[1;33m)\u001b[0m\u001b[1;33m\u001b[0m\u001b[1;33m\u001b[0m\u001b[0m\n\u001b[1;32m---> 27\u001b[1;33m         \u001b[0mt\u001b[0m \u001b[1;33m=\u001b[0m \u001b[0mget_t_2n\u001b[0m\u001b[1;33m(\u001b[0m\u001b[0mt\u001b[0m\u001b[1;33m)\u001b[0m\u001b[1;33m\u001b[0m\u001b[1;33m\u001b[0m\u001b[0m\n\u001b[0m\u001b[0;32m     28\u001b[0m         \u001b[0mn\u001b[0m \u001b[1;33m*=\u001b[0m \u001b[1;36m2\u001b[0m\u001b[1;33m\u001b[0m\u001b[1;33m\u001b[0m\u001b[0m\n\u001b[0;32m     29\u001b[0m \u001b[1;33m\u001b[0m\u001b[0m\n",
      "\u001b[1;32m<ipython-input-55-959dee365b3a>\u001b[0m in \u001b[0;36mget_t_2n\u001b[1;34m(t_n)\u001b[0m\n\u001b[0;32m      4\u001b[0m         \u001b[1;32mreturn\u001b[0m \u001b[0msqrt\u001b[0m\u001b[1;33m(\u001b[0m\u001b[1;36m2\u001b[0m\u001b[1;33m-\u001b[0m\u001b[0msqrt\u001b[0m\u001b[1;33m(\u001b[0m\u001b[1;36m4\u001b[0m\u001b[1;33m-\u001b[0m\u001b[0ms_n\u001b[0m\u001b[1;33m**\u001b[0m\u001b[1;36m2\u001b[0m\u001b[1;33m)\u001b[0m\u001b[1;33m)\u001b[0m\u001b[1;33m\u001b[0m\u001b[1;33m\u001b[0m\u001b[0m\n\u001b[0;32m      5\u001b[0m     \u001b[1;32mdef\u001b[0m \u001b[0mget_t_2n\u001b[0m\u001b[1;33m(\u001b[0m\u001b[0mt_n\u001b[0m\u001b[1;33m)\u001b[0m\u001b[1;33m:\u001b[0m\u001b[1;33m\u001b[0m\u001b[1;33m\u001b[0m\u001b[0m\n\u001b[1;32m----> 6\u001b[1;33m         \u001b[1;32mreturn\u001b[0m \u001b[1;33m(\u001b[0m\u001b[1;36m2\u001b[0m\u001b[1;33m/\u001b[0m\u001b[0mt_n\u001b[0m\u001b[1;33m)\u001b[0m\u001b[1;33m*\u001b[0m\u001b[1;33m(\u001b[0m\u001b[0msqrt\u001b[0m\u001b[1;33m(\u001b[0m\u001b[1;36m4\u001b[0m\u001b[1;33m+\u001b[0m\u001b[0mt_n\u001b[0m\u001b[1;33m**\u001b[0m\u001b[1;36m2\u001b[0m\u001b[1;33m)\u001b[0m\u001b[1;33m-\u001b[0m\u001b[1;36m2\u001b[0m\u001b[1;33m)\u001b[0m\u001b[1;33m\u001b[0m\u001b[1;33m\u001b[0m\u001b[0m\n\u001b[0m\u001b[0;32m      7\u001b[0m \u001b[1;33m\u001b[0m\u001b[0m\n\u001b[0;32m      8\u001b[0m     \u001b[0mhistory\u001b[0m \u001b[1;33m=\u001b[0m \u001b[0mlist\u001b[0m\u001b[1;33m(\u001b[0m\u001b[1;33m)\u001b[0m\u001b[1;33m\u001b[0m\u001b[1;33m\u001b[0m\u001b[0m\n",
      "\u001b[1;31mZeroDivisionError\u001b[0m: float division by zero"
     ]
    }
   ],
   "source": [
    "def archimedes1(K, print_results = True):\n",
    "    # Helper functions for doubling n\n",
    "    def get_s_2n(s_n):\n",
    "        return sqrt(2-sqrt(4-s_n**2))\n",
    "    def get_t_2n(t_n):\n",
    "        return (2/t_n)*(sqrt(4+t_n**2)-2)\n",
    "    \n",
    "    history = list()\n",
    "    \n",
    "    # number of edges\n",
    "    n = 4\n",
    "    # initial lengths\n",
    "    s = sqrt(2)\n",
    "    t = 2\n",
    "    \n",
    "    for k in range(K+1):\n",
    "        lower_estimate = (n/2.0)*s\n",
    "        upper_estimate = (n/2.0)*t\n",
    "        \n",
    "        if print_results:\n",
    "            print(f\"k: {k:2d}, n={n:12d}, {lower_estimate:.16f} < pi < {upper_estimate:.16f}, delta={upper_estimate-lower_estimate:.16f}\")\n",
    "        \n",
    "        history.append([n, lower_estimate, upper_estimate])\n",
    "\n",
    "        \n",
    "        s = get_s_2n(s)\n",
    "        t = get_t_2n(t)\n",
    "        n *= 2\n",
    "        \n",
    "    return history\n",
    "_ = archimedes1(30)"
   ]
  },
  {
   "cell_type": "markdown",
   "metadata": {},
   "source": [
    "## 3.3 b)\n",
    "Beschreibung siehe handschriftliche PDF."
   ]
  },
  {
   "cell_type": "markdown",
   "metadata": {},
   "source": [
    "## 3.3 c)\n",
    "Die neuen Formeln sind besser, weil sie die Subtraktion zweier fast gleicher Zahlen vermeiden. Deshalb wird **Auslöschung** vermieden. Man erhält fast jede Verdoppelung eine neue Dezimalstelle, die Differenz geht gegen Null und kehrt sich nicht um."
   ]
  },
  {
   "cell_type": "code",
   "execution_count": 56,
   "metadata": {},
   "outputs": [
    {
     "name": "stdout",
     "output_type": "stream",
     "text": [
      "k:  0, n=           4, 2.8284271247461903 < pi < 4.0000000000000000, delta=1.1715728752538097\n",
      "k:  1, n=           8, 3.0614674589207183 < pi < 3.3137084989847607, delta=0.2522410400640425\n",
      "k:  2, n=          16, 3.1214451522580524 < pi < 3.1825978780745285, delta=0.0611527258164761\n",
      "k:  3, n=          32, 3.1365484905459393 < pi < 3.1517249074292559, delta=0.0151764168833166\n",
      "k:  4, n=          64, 3.1403311569547530 < pi < 3.1441183852459047, delta=0.0037872282911517\n",
      "k:  5, n=         128, 3.1412772509327729 < pi < 3.1422236299424573, delta=0.0009463790096844\n",
      "k:  6, n=         256, 3.1415138011443013 < pi < 3.1417503691689670, delta=0.0002365680246657\n",
      "k:  7, n=         512, 3.1415729403670918 < pi < 3.1416320807031828, delta=0.0000591403360910\n",
      "k:  8, n=        1024, 3.1415877252771600 < pi < 3.1416025102568104, delta=0.0000147849796504\n",
      "k:  9, n=        2048, 3.1415914215112002 < pi < 3.1415951177495907, delta=0.0000036962383905\n",
      "k: 10, n=        4096, 3.1415923455701180 < pi < 3.1415932696293085, delta=0.0000009240591905\n",
      "k: 11, n=        8192, 3.1415925765848729 < pi < 3.1415928075996455, delta=0.0000002310147726\n",
      "k: 12, n=       16384, 3.1415926343385636 < pi < 3.1415926920922552, delta=0.0000000577536916\n",
      "k: 13, n=       32768, 3.1415926487769861 < pi < 3.1415926632154090, delta=0.0000000144384229\n",
      "k: 14, n=       65536, 3.1415926523865916 < pi < 3.1415926559961980, delta=0.0000000036096064\n",
      "k: 15, n=      131072, 3.1415926532889933 < pi < 3.1415926541913950, delta=0.0000000009024017\n",
      "k: 16, n=      262144, 3.1415926535145937 < pi < 3.1415926537401946, delta=0.0000000002256009\n",
      "k: 17, n=      524288, 3.1415926535709939 < pi < 3.1415926536273941, delta=0.0000000000564002\n",
      "k: 18, n=     1048576, 3.1415926535850942 < pi < 3.1415926535991940, delta=0.0000000000140998\n",
      "k: 19, n=     2097152, 3.1415926535886194 < pi < 3.1415926535921446, delta=0.0000000000035252\n",
      "k: 20, n=     4194304, 3.1415926535895009 < pi < 3.1415926535903824, delta=0.0000000000008815\n",
      "k: 21, n=     8388608, 3.1415926535897212 < pi < 3.1415926535899414, delta=0.0000000000002203\n",
      "k: 22, n=    16777216, 3.1415926535897762 < pi < 3.1415926535898313, delta=0.0000000000000551\n",
      "k: 23, n=    33554432, 3.1415926535897900 < pi < 3.1415926535898033, delta=0.0000000000000133\n",
      "k: 24, n=    67108864, 3.1415926535897936 < pi < 3.1415926535897962, delta=0.0000000000000027\n",
      "k: 25, n=   134217728, 3.1415926535897944 < pi < 3.1415926535897949, delta=0.0000000000000004\n",
      "k: 26, n=   268435456, 3.1415926535897949 < pi < 3.1415926535897949, delta=0.0000000000000000\n",
      "k: 27, n=   536870912, 3.1415926535897949 < pi < 3.1415926535897949, delta=0.0000000000000000\n",
      "k: 28, n=  1073741824, 3.1415926535897949 < pi < 3.1415926535897949, delta=0.0000000000000000\n",
      "k: 29, n=  2147483648, 3.1415926535897949 < pi < 3.1415926535897949, delta=0.0000000000000000\n",
      "k: 30, n=  4294967296, 3.1415926535897949 < pi < 3.1415926535897949, delta=0.0000000000000000\n"
     ]
    }
   ],
   "source": [
    "# We only have to adapt the get_x_2n Functions:\n",
    "def archimedes2(K, print_results = True):\n",
    "    # Helper functions for doubling n\n",
    "    def get_s_2n(s_n):\n",
    "        return s_n/sqrt(2+sqrt(4-s_n**2))\n",
    "    def get_t_2n(t_n):\n",
    "        return (2*t_n)/(sqrt(4+t_n**2)+2)\n",
    "    \n",
    "    history = list()\n",
    "    \n",
    "    # number of edges\n",
    "    n = 4\n",
    "    # initial lengths\n",
    "    s = sqrt(2)\n",
    "    t = 2\n",
    "    \n",
    "    for k in range(K+1):\n",
    "        lower_estimate = (n/2.0)*s\n",
    "        upper_estimate = (n/2.0)*t\n",
    "        \n",
    "        if print_results:\n",
    "            print(f\"k: {k:2d}, n={n:12d}, {lower_estimate:.16f} < pi < {upper_estimate:.16f}, delta={upper_estimate-lower_estimate:.16f}\")\n",
    "        \n",
    "        history.append([n, lower_estimate, upper_estimate])\n",
    "        \n",
    "        s = get_s_2n(s)\n",
    "        t = get_t_2n(t)\n",
    "        n *= 2\n",
    "        \n",
    "    return history\n",
    "_ = archimedes2(30)"
   ]
  },
  {
   "cell_type": "code",
   "execution_count": 57,
   "metadata": {
    "scrolled": true
   },
   "outputs": [
    {
     "name": "stdout",
     "output_type": "stream",
     "text": [
      "k:  0, n=           4, 2.8284271247461903 < pi < 4.0000000000000000, delta=1.1715728752538097\n",
      "k:  1, n=           8, 3.0614674589207183 < pi < 3.3137084989847607, delta=0.2522410400640425\n",
      "k:  2, n=          16, 3.1214451522580524 < pi < 3.1825978780745281, delta=0.0611527258164757\n",
      "k:  3, n=          32, 3.1365484905459393 < pi < 3.1517249074292559, delta=0.0151764168833166\n",
      "k:  4, n=          64, 3.1403311569547530 < pi < 3.1441183852459043, delta=0.0037872282911513\n",
      "k:  5, n=         128, 3.1412772509327729 < pi < 3.1422236299424569, delta=0.0009463790096840\n",
      "k:  6, n=         256, 3.1415138011443013 < pi < 3.1417503691689670, delta=0.0002365680246657\n",
      "k:  7, n=         512, 3.1415729403670918 < pi < 3.1416320807031823, delta=0.0000591403360906\n",
      "k:  8, n=        1024, 3.1415877252771600 < pi < 3.1416025102568090, delta=0.0000147849796490\n",
      "k:  9, n=        2048, 3.1415914215112002 < pi < 3.1415951177495893, delta=0.0000036962383891\n",
      "k: 10, n=        4096, 3.1415923455701180 < pi < 3.1415932696293076, delta=0.0000009240591896\n",
      "k: 11, n=        8192, 3.1415925765848729 < pi < 3.1415928075996447, delta=0.0000002310147718\n",
      "k: 12, n=       16384, 3.1415926343385636 < pi < 3.1415926920922552, delta=0.0000000577536916\n",
      "k: 13, n=       32768, 3.1415926487769861 < pi < 3.1415926632154090, delta=0.0000000144384229\n",
      "k: 14, n=       65536, 3.1415926523865916 < pi < 3.1415926559961975, delta=0.0000000036096059\n",
      "k: 15, n=      131072, 3.1415926532889933 < pi < 3.1415926541913950, delta=0.0000000009024017\n",
      "k: 16, n=      262144, 3.1415926535145937 < pi < 3.1415926537401941, delta=0.0000000002256004\n",
      "k: 17, n=      524288, 3.1415926535709939 < pi < 3.1415926536273941, delta=0.0000000000564002\n",
      "k: 18, n=     1048576, 3.1415926535850942 < pi < 3.1415926535991945, delta=0.0000000000141003\n",
      "k: 19, n=     2097152, 3.1415926535886194 < pi < 3.1415926535921446, delta=0.0000000000035252\n",
      "k: 20, n=     4194304, 3.1415926535895009 < pi < 3.1415926535903824, delta=0.0000000000008815\n",
      "k: 21, n=     8388608, 3.1415926535897212 < pi < 3.1415926535899414, delta=0.0000000000002203\n",
      "k: 22, n=    16777216, 3.1415926535897762 < pi < 3.1415926535898313, delta=0.0000000000000551\n",
      "k: 23, n=    33554432, 3.1415926535897900 < pi < 3.1415926535898038, delta=0.0000000000000138\n",
      "k: 24, n=    67108864, 3.1415926535897936 < pi < 3.1415926535897971, delta=0.0000000000000036\n",
      "k: 25, n=   134217728, 3.1415926535897944 < pi < 3.1415926535897953, delta=0.0000000000000009\n",
      "k: 26, n=   268435456, 3.1415926535897949 < pi < 3.1415926535897953, delta=0.0000000000000004\n",
      "k: 27, n=   536870912, 3.1415926535897949 < pi < 3.1415926535897949, delta=0.0000000000000000\n",
      "k: 28, n=  1073741824, 3.1415926535897949 < pi < 3.1415926535897949, delta=0.0000000000000000\n",
      "k: 29, n=  2147483648, 3.1415926535897949 < pi < 3.1415926535897949, delta=0.0000000000000000\n",
      "k: 30, n=  4294967296, 3.1415926535897949 < pi < 3.1415926535897949, delta=0.0000000000000000\n"
     ]
    }
   ],
   "source": [
    "def ceulen(K, print_results=True):\n",
    "    # Helper functions for doubling n\n",
    "    def get_s_2n(s_n):\n",
    "        return s_n/sqrt(2+sqrt(4-s_n**2))\n",
    "    def get_t_n_from_s_n(s_n):\n",
    "        return (2*s_n)/sqrt(4-s_n**2)\n",
    "    \n",
    "    history = list()\n",
    "    # number of edges\n",
    "    n = 4\n",
    "    # initial lengths\n",
    "    s = sqrt(2)\n",
    "    t = 2\n",
    "    \n",
    "    for k in range(K+1):\n",
    "        lower_estimate = (n/2.0)*s\n",
    "        upper_estimate = (n/2.0)*t\n",
    "        if print_results:\n",
    "            print(f\"k: {k:2d}, n={n:12d}, {lower_estimate:.16f} < pi < {upper_estimate:.16f}, delta={upper_estimate-lower_estimate:.16f}\")\n",
    "        \n",
    "        history.append([n, lower_estimate, upper_estimate])\n",
    "        \n",
    "        s = get_s_2n(s)\n",
    "        t = get_t_n_from_s_n(s)\n",
    "        n *= 2\n",
    "        \n",
    "    return history\n",
    "_ = ceulen(30)"
   ]
  },
  {
   "cell_type": "code",
   "execution_count": 62,
   "metadata": {},
   "outputs": [
    {
     "ename": "ModuleNotFoundError",
     "evalue": "No module named 'ipytest'",
     "output_type": "error",
     "traceback": [
      "\u001b[1;31m---------------------------------------------------------------------------\u001b[0m",
      "\u001b[1;31mModuleNotFoundError\u001b[0m                       Traceback (most recent call last)",
      "\u001b[1;32m<ipython-input-62-9c97a781bf9f>\u001b[0m in \u001b[0;36m<module>\u001b[1;34m\u001b[0m\n\u001b[0;32m      1\u001b[0m \u001b[1;32mimport\u001b[0m \u001b[0mdoctest\u001b[0m\u001b[1;33m\u001b[0m\u001b[1;33m\u001b[0m\u001b[0m\n\u001b[0;32m      2\u001b[0m \u001b[1;32mimport\u001b[0m \u001b[0mpytest\u001b[0m\u001b[1;33m\u001b[0m\u001b[1;33m\u001b[0m\u001b[0m\n\u001b[1;32m----> 3\u001b[1;33m \u001b[1;32mimport\u001b[0m \u001b[0mipytest\u001b[0m\u001b[1;33m\u001b[0m\u001b[1;33m\u001b[0m\u001b[0m\n\u001b[0m\u001b[0;32m      4\u001b[0m \u001b[0mipytest\u001b[0m\u001b[1;33m.\u001b[0m\u001b[0mautoconfig\u001b[0m\u001b[1;33m(\u001b[0m\u001b[1;33m)\u001b[0m\u001b[1;33m\u001b[0m\u001b[1;33m\u001b[0m\u001b[0m\n",
      "\u001b[1;31mModuleNotFoundError\u001b[0m: No module named 'ipytest'"
     ]
    }
   ],
   "source": [
    "import doctest\n",
    "import pytest\n",
    "import ipytest\n",
    "ipytest.autoconfig()"
   ]
  },
  {
   "cell_type": "code",
   "execution_count": 61,
   "metadata": {},
   "outputs": [
    {
     "name": "stdout",
     "output_type": "stream",
     "text": [
      "Test error for n = 8 in Archimedes 1!\n",
      "Test error for n = 16 in Archimedes 1!\n",
      "Test error for n = 16 in Archimedes 2!\n",
      "Test error for n = 32 in Archimedes 1!\n",
      "Test error for n = 64 in Archimedes 1!\n",
      "Test error for n = 64 in Archimedes 2!\n",
      "Test error for n = 128 in Archimedes 1!\n",
      "Test error for n = 128 in Archimedes 2!\n",
      "Test error for n = 256 in Archimedes 1!\n",
      "Test error for n = 512 in Archimedes 1!\n",
      "Test error for n = 512 in Archimedes 2!\n",
      "Test error for n = 1024 in Archimedes 1!\n",
      "Test error for n = 1024 in Archimedes 2!\n",
      "Test error for n = 2048 in Archimedes 1!\n",
      "Test error for n = 2048 in Archimedes 2!\n",
      "Test error for n = 4096 in Archimedes 1!\n",
      "Test error for n = 4096 in Archimedes 2!\n",
      "Test error for n = 8192 in Archimedes 1!\n",
      "Test error for n = 8192 in Archimedes 2!\n",
      "Test error for n = 16384 in Archimedes 1!\n",
      "Test error for n = 32768 in Archimedes 1!\n",
      "Test error for n = 65536 in Archimedes 1!\n",
      "Test error for n = 65536 in Archimedes 2!\n",
      "Test error for n = 131072 in Archimedes 1!\n",
      "Test error for n = 262144 in Archimedes 1!\n",
      "Test error for n = 262144 in Archimedes 2!\n",
      "Test error for n = 524288 in Archimedes 1!\n",
      "Test error for n = 1048576 in Archimedes 1!\n",
      "Test error for n = 1048576 in Archimedes 2!\n",
      "Test error for n = 2097152 in Archimedes 1!\n",
      "Test error for n = 4194304 in Archimedes 1!\n",
      "Test error for n = 8388608 in Archimedes 1!\n",
      "Test error for n = 16777216 in Archimedes 1!\n",
      "Test error for n = 33554432 in Archimedes 1!\n",
      "Test error for n = 33554432 in Archimedes 2!\n",
      "Test error for n = 67108864 in Archimedes 1!\n",
      "Test error for n = 67108864 in Archimedes 2!\n",
      "Test error for n = 134217728 in Archimedes 1!\n",
      "Test error for n = 134217728 in Archimedes 2!\n"
     ]
    }
   ],
   "source": [
    "def test_pi_approximations():\n",
    "    k = 25\n",
    "    history_archimedes1 = archimedes1(k, print_results=False)\n",
    "    history_archimedes2 = archimedes2(k, print_results=False)\n",
    "    history_ceulen = ceulen(k, print_results=False)\n",
    "\n",
    "    for i in range(k+1):\n",
    "        if not history_archimedes1[i] == history_ceulen[i]:\n",
    "            print(f\"Test error for n = {history_archimedes1[i][0]} in Archimedes 1!\")\n",
    "        if not history_archimedes2[i] == history_ceulen[i]:\n",
    "            print(f\"Test error for n = {history_archimedes1[i][0]} in Archimedes 2!\")\n",
    "    "
   ]
  },
  {
   "cell_type": "code",
   "execution_count": null,
   "metadata": {},
   "outputs": [],
   "source": [
    "doctest.testmod()\n",
    "ipytest.run()"
   ]
  }
 ],
 "metadata": {
  "kernelspec": {
   "display_name": "Python 3",
   "language": "python",
   "name": "python3"
  },
  "language_info": {
   "codemirror_mode": {
    "name": "ipython",
    "version": 3
   },
   "file_extension": ".py",
   "mimetype": "text/x-python",
   "name": "python",
   "nbconvert_exporter": "python",
   "pygments_lexer": "ipython3",
   "version": "3.7.3"
  }
 },
 "nbformat": 4,
 "nbformat_minor": 2
}
