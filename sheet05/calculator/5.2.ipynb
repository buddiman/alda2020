{
 "cells": [
  {
   "cell_type": "markdown",
   "metadata": {},
   "source": [
    "# Blatt 05\n",
    "## Aufgabe 2\n",
    "Christopher Hoellriegl, Marvin Schmitt\n",
    "\n"
   ]
  },
  {
   "cell_type": "markdown",
   "metadata": {},
   "source": [
    "### (a)"
   ]
  },
  {
   "cell_type": "markdown",
   "metadata": {},
   "source": [
    "### Define Classes `Node, Number, Operator`"
   ]
  },
  {
   "cell_type": "code",
   "execution_count": 1,
   "metadata": {},
   "outputs": [],
   "source": [
    "class Node:\n",
    "    def __init__(self, key, value):\n",
    "        self.key = key\n",
    "        self.value = value\n",
    "        self.left = None\n",
    "        self.right = None\n",
    "\n",
    "\n",
    "class Number:\n",
    "    def __init__(self, value):\n",
    "        self.value = value\n",
    "\n",
    "\n",
    "class Operator:\n",
    "    def __init__(self, operator):\n",
    "        self.operator = operator\n",
    "        self.left = None\n",
    "        self.right = None"
   ]
  },
  {
   "cell_type": "markdown",
   "metadata": {},
   "source": [
    "### Implement Shunting Yard Algorithm for AST Parsing through Reverse Polish Notation"
   ]
  },
  {
   "cell_type": "code",
   "execution_count": 2,
   "metadata": {},
   "outputs": [],
   "source": [
    "# Operator Priority\n",
    "priority = {\n",
    "    '(': 0,     # Note: not higher than the others\n",
    "    ')': 0,\n",
    "    '+': 1,\n",
    "    '-': 1,\n",
    "    '*': 2,\n",
    "    '/': 2\n",
    "}\n",
    "\n",
    "\n",
    "def shuntingYard(expression):\n",
    "    '''\n",
    "    converts an infix expression to reverse polish notation using the shunting yard algorithm\n",
    "    https://de.wikipedia.org/wiki/Shunting-yard-Algorithmus\n",
    "    :param expression: infix expression\n",
    "    :return: expression as reverse polish notation\n",
    "    '''\n",
    "    stack = []\n",
    "    output = []\n",
    "    \n",
    "    if expression == \"\":\n",
    "        return []\n",
    "\n",
    "    for token in expression:\n",
    "        # Append digits without further processing\n",
    "        if token.isdigit():\n",
    "            output.append(token)\n",
    "\n",
    "        # process operators\n",
    "        else:\n",
    "            # if last element then append directly\n",
    "            if len(stack) == 0:\n",
    "                stack.append(token)\n",
    "            else:\n",
    "                # handle brackets\n",
    "                if token == \"(\":\n",
    "                    stack.append(token)\n",
    "                elif token == \")\":\n",
    "                    while stack[len(stack) - 1] != \"(\":\n",
    "                        output.append(stack.pop())\n",
    "                    stack.pop()\n",
    "\n",
    "                # check if token has higher priority\n",
    "                elif priority[token] > priority[stack[len(stack) - 1]]:\n",
    "                    stack.append(token)\n",
    "                else:\n",
    "                    while len(stack) != 0:\n",
    "                        # everything up to opening bracket\n",
    "                        if stack[len(stack) - 1] == '(':\n",
    "                            break\n",
    "                        output.append(stack.pop())\n",
    "                    stack.append(token)\n",
    "\n",
    "    # move temporary stack to a return value\n",
    "    # just to be sure, every element for it self. Forgot this :-/\n",
    "    while len(stack) != 0:\n",
    "        output.append(stack.pop())\n",
    "\n",
    "    return output\n",
    "\n",
    "\n",
    "\n",
    "def parse(s):\n",
    "    '''\n",
    "    create a tree from an expression.\n",
    "    :param s: expression\n",
    "    :return: root node of the tree\n",
    "    '''\n",
    "    # Create reverse polish notation from the expression\n",
    "    rpn = shuntingYard(s)\n",
    "\n",
    "    if rpn == []:\n",
    "        return None\n",
    "    \n",
    "    # tracking stack\n",
    "    stack = []\n",
    "\n",
    "    # Now parse every element\n",
    "    for token in rpn:\n",
    "        # check if element is a digit, then create a node\n",
    "        if token.isdigit():\n",
    "            node = Number(token)\n",
    "            stack.append(node)\n",
    "\n",
    "        # process operators\n",
    "        else:\n",
    "            # create a node and get the children from the stack\n",
    "            node = Operator(token)\n",
    "            node.right = stack.pop()\n",
    "            node.left = stack.pop()\n",
    "\n",
    "            # put the node on the stack\n",
    "            stack.append(node)\n",
    "\n",
    "    # return the root (last on the stack) node\n",
    "    return stack.pop()\n",
    "\n"
   ]
  },
  {
   "cell_type": "markdown",
   "metadata": {},
   "source": [
    "### (b)\n",
    "Siehe `5.2b.pdf`"
   ]
  },
  {
   "cell_type": "markdown",
   "metadata": {},
   "source": [
    "### (c)"
   ]
  },
  {
   "cell_type": "code",
   "execution_count": 3,
   "metadata": {},
   "outputs": [],
   "source": [
    "def evaluateTree(root):\n",
    "    '''\n",
    "    evaluate the tree and calculate the solution\n",
    "    :param root: Root node of the tree\n",
    "    :return: Solution\n",
    "    '''\n",
    "\n",
    "    # check for empty nodes\n",
    "    if root is None:\n",
    "        return None\n",
    "\n",
    "    # if the Node is just a number, return\n",
    "    if isinstance(root, Number):\n",
    "        return int(root.value)  # compiler says to cast here...\n",
    "\n",
    "    # now handle the operators. Recursion yeahhh\n",
    "    elif isinstance(root, Operator):\n",
    "        if root.operator == '*':\n",
    "            return evaluateTree(root.left) * evaluateTree(root.right)\n",
    "        elif root.operator == '/':\n",
    "            return evaluateTree(root.left) / evaluateTree(root.right)\n",
    "        elif root.operator == '+':\n",
    "            return evaluateTree(root.left) + evaluateTree(root.right)\n",
    "        elif root.operator == '-':\n",
    "            return evaluateTree(root.left) - evaluateTree(root.right)\n",
    "        else:\n",
    "            raise RuntimeError(\"Operator not found.\")\n",
    "\n",
    "    # throw an error if there is a problem with the tree (unsupported elements)\n",
    "    else:\n",
    "        raise RuntimeError(\"Unsupported character used!\")"
   ]
  },
  {
   "cell_type": "code",
   "execution_count": 4,
   "metadata": {},
   "outputs": [
    {
     "name": "stdout",
     "output_type": "stream",
     "text": [
      "Expression: 2*4*(3+(4-7)*8)-(1-6):\n",
      "Reverse polish notation:  ['2', '4', '*', '3', '4', '7', '-', '8', '*', '+', '*', '1', '6', '-', '-']\n",
      "Evaluation:  -163\n",
      "\n",
      "\n",
      "Expression: 2+5*3:\n",
      "Reverse polish notation:  ['2', '5', '3', '*', '+']\n",
      "Evaluation:  17\n"
     ]
    }
   ],
   "source": [
    "print(\"Expression: 2*4*(3+(4-7)*8)-(1-6):\")\n",
    "print(\"Reverse polish notation: \", shuntingYard(\"2*4*(3+(4-7)*8)-(1-6)\"))\n",
    "tree = parse(\"2*4*(3+(4-7)*8)-(1-6)\")\n",
    "print(\"Evaluation: \", evaluateTree(tree))\n",
    "print(\"\\n\")\n",
    "print(\"Expression: 2+5*3:\")\n",
    "print(\"Reverse polish notation: \", shuntingYard(\"2+5*3\"))\n",
    "tree = parse(\"2+5*3\")\n",
    "print(\"Evaluation: \", evaluateTree(tree))"
   ]
  },
  {
   "cell_type": "markdown",
   "metadata": {},
   "source": [
    "### (d)"
   ]
  },
  {
   "cell_type": "code",
   "execution_count": 5,
   "metadata": {},
   "outputs": [
    {
     "name": "stderr",
     "output_type": "stream",
     "text": [
      "/opt/conda/lib/python3.7/site-packages/ipytest/_unittest_support.py:18: FutureWarning: pandas.util.testing is deprecated. Use the functions in the public API at pandas.testing instead.\n",
      "  import pandas.util.testing as _pd_testing\n"
     ]
    }
   ],
   "source": [
    "import doctest\n",
    "import pytest\n",
    "import ipytest\n",
    "ipytest.autoconfig()"
   ]
  },
  {
   "cell_type": "code",
   "execution_count": 6,
   "metadata": {},
   "outputs": [],
   "source": [
    "def test_parse_and_evaluate():\n",
    "    tests = {\n",
    "        \"Leerer String\" : (\"\", None),\n",
    "        \"Einsame Nummer\": (\"5\", 5),\n",
    "        \"Zeichen Plus\": (\"5+3\", 8),\n",
    "        \"Zeichen Minus\": (\"5-3\", 2),\n",
    "        \"Zeichen Mult\": (\"5*3\", 15),\n",
    "        \"Zeichen Division\": (\"6/3\", 2),\n",
    "        \"Strich Links-Assoziativ\": (\"3-2+1\", 2),\n",
    "        \"Punkt vor Strich\": (\"2+4*3\", 14),\n",
    "        \"Klammern\": (\"8-(2+4)\", 2),\n",
    "        \"Klammer vor Punkt\": (\"2*(3+3)\", 12),\n",
    "        \"Doppel Klammer\" : (\"2*(8/(8-4))\", 4)        \n",
    "    }\n",
    "\n",
    "    for description, (teststring, solution) in tests.items():\n",
    "        print(description)\n",
    "        tree = parse(teststring)\n",
    "        assert evaluateTree(tree) == solution, f\"Test error for {description} with input {teststring}\"\n",
    "    "
   ]
  },
  {
   "cell_type": "code",
   "execution_count": 7,
   "metadata": {},
   "outputs": [
    {
     "name": "stdout",
     "output_type": "stream",
     "text": [
      ".                                                                        [100%]\n",
      "1 passed in 0.02s\n"
     ]
    }
   ],
   "source": [
    "doctest.testmod()\n",
    "ipytest.run()"
   ]
  }
 ],
 "metadata": {
  "kernelspec": {
   "display_name": "Python 3",
   "language": "python",
   "name": "python3"
  },
  "language_info": {
   "codemirror_mode": {
    "name": "ipython",
    "version": 3
   },
   "file_extension": ".py",
   "mimetype": "text/x-python",
   "name": "python",
   "nbconvert_exporter": "python",
   "pygments_lexer": "ipython3",
   "version": "3.7.6"
  }
 },
 "nbformat": 4,
 "nbformat_minor": 2
}
