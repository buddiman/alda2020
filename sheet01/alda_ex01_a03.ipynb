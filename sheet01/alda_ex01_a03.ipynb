{
 "cells": [
  {
   "cell_type": "markdown",
   "metadata": {},
   "source": [
    "## In welchem Modul befindet sich die Funktion sqrt() für die Quadratwurzel, und wie importiert und verwendet man diese Funktion?\n",
    "Im Modul `math`"
   ]
  },
  {
   "cell_type": "code",
   "execution_count": 13,
   "metadata": {},
   "outputs": [],
   "source": [
    "from math import sqrt"
   ]
  },
  {
   "cell_type": "code",
   "execution_count": 14,
   "metadata": {},
   "outputs": [
    {
     "data": {
      "text/plain": [
       "1.4142135623730951"
      ]
     },
     "execution_count": 14,
     "metadata": {},
     "output_type": "execute_result"
    }
   ],
   "source": [
    "sqrt(2)"
   ]
  },
  {
   "cell_type": "markdown",
   "metadata": {},
   "source": [
    "## Was passiert, wenn man sqrt() mit einer negativen Zahl aufruft?\n",
    "`sqrt(-1) # Throws ValueError: math domain error `\n"
   ]
  },
  {
   "cell_type": "code",
   "execution_count": 15,
   "metadata": {},
   "outputs": [
    {
     "ename": "ValueError",
     "evalue": "math domain error",
     "output_type": "error",
     "traceback": [
      "\u001b[1;31m---------------------------------------------------------------------------\u001b[0m",
      "\u001b[1;31mValueError\u001b[0m                                Traceback (most recent call last)",
      "\u001b[1;32m<ipython-input-15-dc0ac523cb01>\u001b[0m in \u001b[0;36m<module>\u001b[1;34m\u001b[0m\n\u001b[1;32m----> 1\u001b[1;33m \u001b[0msqrt\u001b[0m\u001b[1;33m(\u001b[0m\u001b[1;33m-\u001b[0m\u001b[1;36m1\u001b[0m\u001b[1;33m)\u001b[0m\u001b[1;33m\u001b[0m\u001b[1;33m\u001b[0m\u001b[0m\n\u001b[0m",
      "\u001b[1;31mValueError\u001b[0m: math domain error"
     ]
    }
   ],
   "source": [
    "sqrt(-1)"
   ]
  },
  {
   "cell_type": "markdown",
   "metadata": {},
   "source": [
    "## Implementieren Sie eine Funktion mysqrt(), die stattdessen die Ausgabe „mysqrt() funktioniert nicht für negative Zahlen, du Dussel!“ anzeigt (zwei Antworten: benutzen Sie if: ... else: sowie try: ... except: )!\n"
   ]
  },
  {
   "cell_type": "code",
   "execution_count": 21,
   "metadata": {},
   "outputs": [],
   "source": [
    "def mysqrt(i, mode = \"ifelse\"):\n",
    "    if mode == \"ifelse\":\n",
    "        if i < 0:\n",
    "            return \"mysqrt() funktioniert nicht für negative Zahlen, du Dussel!\"\n",
    "        else:\n",
    "            return sqrt(i)\n",
    "\n",
    "    elif mode == \"tryexcept\":\n",
    "        try:\n",
    "            return sqrt(i)\n",
    "        except ValueError:\n",
    "            return \"mysqrt() funktioniert nicht für negative Zahlen, du Dussel! TRYEXCEPT\"\n",
    "    else:\n",
    "        return \"invalid mode...\"\n",
    "\n"
   ]
  },
  {
   "cell_type": "code",
   "execution_count": 18,
   "metadata": {},
   "outputs": [
    {
     "name": "stdout",
     "output_type": "stream",
     "text": [
      "2.0\n"
     ]
    }
   ],
   "source": [
    "print(mysqrt(4))"
   ]
  },
  {
   "cell_type": "code",
   "execution_count": 19,
   "metadata": {},
   "outputs": [
    {
     "name": "stdout",
     "output_type": "stream",
     "text": [
      "mysqrt() funktioniert nicht für negative Zahlen, du Dussel!\n"
     ]
    }
   ],
   "source": [
    "print(mysqrt(-1))"
   ]
  },
  {
   "cell_type": "code",
   "execution_count": 22,
   "metadata": {},
   "outputs": [
    {
     "name": "stdout",
     "output_type": "stream",
     "text": [
      "mysqrt() funktioniert nicht für negative Zahlen, du Dussel! TRYEXCEPT\n"
     ]
    }
   ],
   "source": [
    "print(mysqrt(-1, mode = \"tryexcept\"))"
   ]
  },
  {
   "cell_type": "markdown",
   "metadata": {},
   "source": [
    "## Schreiben Sie eine Schleife, die die Variable i von -10 bis +10 (inklusive) inkrementiert, und geben Sie bei jeder Iteration den Wert i sowie das Ergebnis von i % 5 („i modulo 5“) aus. Erklären Sie die Ausgabe (d.h. die Funktionsweise des Modulo-Operators).\n"
   ]
  },
  {
   "cell_type": "code",
   "execution_count": 23,
   "metadata": {},
   "outputs": [
    {
     "name": "stdout",
     "output_type": "stream",
     "text": [
      "[[-10, 0], [-9, 1], [-8, 2], [-7, 3], [-6, 4], [-5, 0], [-4, 1], [-3, 2], [-2, 3], [-1, 4], [0, 0], [1, 1], [2, 2], [3, 3], [4, 4], [5, 0], [6, 1], [7, 2], [8, 3], [9, 4], [10, 0]]\n"
     ]
    }
   ],
   "source": [
    "print([[i, i%5] for i in range(-10, 11)]) \n"
   ]
  },
  {
   "cell_type": "markdown",
   "metadata": {},
   "source": [
    "Der Modulo-Operator gibt den Rest bei Ganzzahldivision aus. Er ist mit \"x mod n, x aus Z\" eine elegante Implementierung des Rings $\\mathbb{Z}/n\\mathbb{Z}$\n"
   ]
  },
  {
   "cell_type": "markdown",
   "metadata": {},
   "source": [
    "## Wann sollte man einen String in dreifache Anführungszeichen (''') einschließen?"
   ]
  },
  {
   "cell_type": "code",
   "execution_count": 24,
   "metadata": {},
   "outputs": [
    {
     "name": "stdout",
     "output_type": "stream",
     "text": [
      "\n",
      "Wenn man einen String\n",
      "über mehrere Zeilen\n",
      "strecken will, um ihn lesbarer\n",
      "für\n",
      "Menschen \n",
      "zu \n",
      "machen, nutzt man drei \n",
      "A\n",
      "n\n",
      "f\n",
      "ü\n",
      "h\n",
      "r\n",
      "u\n",
      "n\n",
      "g\n",
      "s\n",
      "z\n",
      "e\n",
      "i\n",
      "c\n",
      "h\n",
      "e\n",
      "n.\n",
      "\n"
     ]
    }
   ],
   "source": [
    "myAnswer = '''\n",
    "Wenn man einen String\n",
    "über mehrere Zeilen\n",
    "strecken will, um ihn lesbarer\n",
    "für\n",
    "Menschen \n",
    "zu \n",
    "machen, nutzt man drei \n",
    "A\n",
    "n\n",
    "f\n",
    "ü\n",
    "h\n",
    "r\n",
    "u\n",
    "n\n",
    "g\n",
    "s\n",
    "z\n",
    "e\n",
    "i\n",
    "c\n",
    "h\n",
    "e\n",
    "n.\n",
    "'''\n",
    "print(myAnswer)"
   ]
  },
  {
   "cell_type": "markdown",
   "metadata": {},
   "source": [
    "## Worin besteht der Unterschied zwischen der Klasse list und der Klasse dict?\n",
    "list: einfaches dynamisches Array bzw. Stack bzw.Queue\n",
    "\n",
    "dict: assoziatives Array"
   ]
  },
  {
   "cell_type": "markdown",
   "metadata": {},
   "source": [
    "# Wozu dient die __init__()-Funktion einer Klasse und wie benutzt man sie?\n",
    "Konstruktur der Klasse. Nutzung im Code über `myCarObject = Car(a, b, c)`"
   ]
  },
  {
   "cell_type": "markdown",
   "metadata": {},
   "source": [
    "# sieve"
   ]
  },
  {
   "cell_type": "code",
   "execution_count": 25,
   "metadata": {},
   "outputs": [],
   "source": [
    "from math import sqrt\n",
    "\n",
    "def sieve(n):\n",
    "    A = {i : True for i in range(2, n+1)}\n",
    "    for i in range(2, int(sqrt(n))+1):\n",
    "        if A[i] : \n",
    "            for j in [i**2 + k*i for k in range(0, n+1)]:\n",
    "                if j > n:\n",
    "                    break\n",
    "                A[j] = False\n",
    "\n",
    "    return [k for (k, v) in A.items() if v==True]"
   ]
  },
  {
   "cell_type": "code",
   "execution_count": 26,
   "metadata": {},
   "outputs": [
    {
     "name": "stdout",
     "output_type": "stream",
     "text": [
      "[2, 3, 5, 7, 11, 13, 17, 19, 23, 29, 31, 37, 41, 43, 47, 53, 59, 61, 67, 71, 73, 79, 83, 89, 97, 101, 103, 107, 109, 113, 127, 131, 137, 139, 149, 151, 157, 163, 167, 173, 179, 181, 191, 193, 197, 199, 211, 223, 227, 229, 233, 239, 241, 251, 257, 263, 269, 271, 277, 281, 283, 293, 307, 311, 313, 317, 331, 337, 347, 349, 353, 359, 367, 373, 379, 383, 389, 397, 401, 409, 419, 421, 431, 433, 439, 443, 449, 457, 461, 463, 467, 479, 487, 491, 499, 503, 509, 521, 523, 541, 547, 557, 563, 569, 571, 577, 587, 593, 599, 601, 607, 613, 617, 619, 631, 641, 643, 647, 653, 659, 661, 673, 677, 683, 691, 701, 709, 719, 727, 733, 739, 743, 751, 757, 761, 769, 773, 787, 797, 809, 811, 821, 823, 827, 829, 839, 853, 857, 859, 863, 877, 881, 883, 887, 907, 911, 919, 929, 937, 941, 947, 953, 967, 971, 977, 983, 991, 997]\n"
     ]
    }
   ],
   "source": [
    "primes = sieve(1000)\n",
    "print(primes)"
   ]
  }
 ],
 "metadata": {
  "kernelspec": {
   "display_name": "Python 3",
   "language": "python",
   "name": "python3"
  },
  "language_info": {
   "codemirror_mode": {
    "name": "ipython",
    "version": 3
   },
   "file_extension": ".py",
   "mimetype": "text/x-python",
   "name": "python",
   "nbconvert_exporter": "python",
   "pygments_lexer": "ipython3",
   "version": "3.7.3"
  }
 },
 "nbformat": 4,
 "nbformat_minor": 2
}
